{
  "nbformat": 4,
  "nbformat_minor": 0,
  "metadata": {
    "colab": {
      "name": "Untitled",
      "provenance": [],
      "collapsed_sections": [],
      "authorship_tag": "ABX9TyNS1I7kI9W9oHdCUwNsHwly",
      "include_colab_link": true
    },
    "kernelspec": {
      "name": "python3",
      "display_name": "Python 3"
    }
  },
  "cells": [
    {
      "cell_type": "markdown",
      "metadata": {
        "id": "view-in-github",
        "colab_type": "text"
      },
      "source": [
        "<a href=\"https://colab.research.google.com/github/jaeyoung-b/Gwangju-AI/blob/master/1%EC%A3%BC%EC%B0%A8%EA%B3%BC%EC%A0%9C.ipynb\" target=\"_parent\"><img src=\"https://colab.research.google.com/assets/colab-badge.svg\" alt=\"Open In Colab\"/></a>"
      ]
    },
    {
      "cell_type": "markdown",
      "metadata": {
        "id": "7uvLeJYuZGM-",
        "colab_type": "text"
      },
      "source": [
        "### 1. 언어\n",
        "* 구글번역(Google Translate): 텍스트 번역을 위해 구글이 무료로 제공하는 다언어 기계 번역 서비스이다. 안드로이드, iOS용 웹사이트 인터페이스, 모바일 앱, 그리고 개발자들이 브라우저 확장과 응용 소프트웨어를 개발하는 데 도움을 주는 API를 제공한다. ![alt text](https://upload.wikimedia.org/wikipedia/commons/2/2b/Screenshot_of_Google_Translate.png)\n",
        "\n",
        "### 2. 음성\n",
        "* 알렉사(Alexa): 아마존이 2014년에 내놓은 음성인식 인공지능(AI)비서이다. 대화하기, 음악 재생하기, 해야할 일 목록 만들기, 알람 맞추기, 날씨 정보 얻기, 교통 정보 얻기, 시간 알려주기, 뉴스 알려주기 등의 기능을 할 수 있다. 뿐만 아니라 스마트 기기들을 컨트롤 할 수도 있다. \n",
        "\n",
        "     ![alt text](https://encrypted-tbn0.gstatic.com/images?q=tbn%3AANd9GcQ7041tA5u7V_tCyExtV9oCAKI7gv9czBj8gQBBvIjNxcjRc6gI&usqp=CAU)\n",
        "\n",
        "### 3. 이미지\n",
        "* Face ID: iphone과 ipad pro에서 사용되는 얼굴인식 시스템으로 기기의 잠금을 유저의 얼굴을 인식하여 해제한다. 그 외에도 기기 내에서 결제나 다른 프로그램에 로그인 할 때에도 사용된다. 한 개의 센서와 세 개의 모듈(도트 프로젝터, 적외선 카메라, 투광 일루미네이터)로 구성된 트루뎁스 카메라 시스템이 사용된다. 보이지 않는 3만 개 이상의 도트를 얼굴에 투사해 사용자의 얼굴 맵을 만들고 적외선 카메라가 얼굴의 도트 패턴을 판독하고 데이터 일치 여부를 확인해 사용자를 인증한다. 이 기술은 보안 외에도 애니모티콘에도 활용된다. 애니모티콘은 기존의 정적인 이모티콘에서 벗어나 사용자 표정을 반영해 움직이는 이모티콘이다. \n",
        "![alt text](https://img.etimg.com/thumb/msid-68499437,width-1200,height-900,imgsize-467252,overlay-etpanache/photo.jpg)\n",
        "\n",
        "### 4. 자율주행\n",
        "* 자율주행 자동차(Self-driving Car): 주변 환경을 인지하고 운전자의 아주 적은 개입으로 또는 개입이 없이 스스로 움직이는 자동차를 말한다. 주위를 인지하기 위해 radar, lidar, sonar, GPS, odometry, inertial measurement units 등의 센서들이 필요하다. 0부터 5까지 총 6단계의 레벨로 나누며, 5단계의 자율주행 자동차는 탑승자의 어떠한 도움없이 모든 주행과 주차를 스스로 할 수 있다. \n",
        "![alt text](https://www.autonomousvehicleinternational.com/wp-content/uploads/2019/05/1.1-For-CapGemini-story.gif)\n",
        "\n",
        "--------------------------------------------------------------------------------\n",
        "**Reference:**  \n",
        "[Google translate](https://ko.wikipedia.org/wiki/%EA%B5%AC%EA%B8%80_%EB%B2%88%EC%97%AD, \"google translate link\")  \n",
        "[Alexa](https://en.wikipedia.org/wiki/Amazon_Alexa)  \n",
        "[Face ID](https://en.wikipedia.org/wiki/Face_ID)  \n",
        "[Face ID2](https://terms.naver.com/entry.nhn?docId=4352595&cid=59088&categoryId=59096)  \n",
        "[Self-Driving Car](https://en.wikipedia.org/wiki/Self-driving_car)\n",
        "\n",
        "\n"
      ]
    }
  ]
}